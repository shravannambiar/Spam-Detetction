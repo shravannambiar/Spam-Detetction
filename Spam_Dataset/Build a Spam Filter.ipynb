{
 "cells": [
  {
   "cell_type": "markdown",
   "metadata": {},
   "source": [
    "## Exercise:\n",
    "\n",
    "* There are 922 e-mails divided equally between spam and non-spam(ham)\n",
    "* The first line of every email contains the subject and the third line contains the body as shown:"
   ]
  },
  {
   "cell_type": "markdown",
   "metadata": {},
   "source": [
    "![title](sample_email.png)"
   ]
  },
  {
   "cell_type": "markdown",
   "metadata": {},
   "source": [
    "## Perform text analysis only on the body to detect spam mails"
   ]
  },
  {
   "cell_type": "markdown",
   "metadata": {},
   "source": [
    "## Steps:\n",
    "1. Read the body of all the emails. (Hint: Just google how to read multiple text files in python. Its very simple - all the text files can be read at once using a simple loop. But make sure while reading itself you read only the body (third line) and not the subject).\n",
    "2. Once you read, the content of all the mails can be collected in a python list.\n",
    "3. Create a pandas dataframe from that list and add the class label column [spam(1) or ham(0)]\n",
    "4. The shape of the pandas dataframe must be (922 x 2) - 922 rows and 2 columns\n",
    "5. Now perform the standard preprocessing steps on the contents of the mail (stopword removal, lower casing, etc.)\n",
    "6. After that create vectors using Binary BOW, count BOW and TFIDF.\n",
    "7. Use BernoulliNB with Binary BOW and MultinomialNB with Count BOW and TFIDF\n",
    "8. Evaluate all the three methods using Accuracy, Confusion Matrix and F-1 Score.\n",
    "9. Compare the results of the three methods"
   ]
  },
  {
   "cell_type": "code",
   "execution_count": null,
   "metadata": {
    "collapsed": true
   },
   "outputs": [],
   "source": []
  }
 ],
 "metadata": {
  "kernelspec": {
   "display_name": "Python 3",
   "language": "python",
   "name": "python3"
  },
  "language_info": {
   "codemirror_mode": {
    "name": "ipython",
    "version": 3
   },
   "file_extension": ".py",
   "mimetype": "text/x-python",
   "name": "python",
   "nbconvert_exporter": "python",
   "pygments_lexer": "ipython3",
   "version": "3.6.6"
  }
 },
 "nbformat": 4,
 "nbformat_minor": 2
}
