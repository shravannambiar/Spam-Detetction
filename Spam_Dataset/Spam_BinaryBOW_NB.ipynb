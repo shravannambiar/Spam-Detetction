{
 "cells": [
  {
   "cell_type": "markdown",
   "metadata": {},
   "source": [
    "## importing required libraries"
   ]
  },
  {
   "cell_type": "code",
   "execution_count": 14,
   "metadata": {},
   "outputs": [],
   "source": [
    "## Import libraries\n",
    "import numpy as np\n",
    "import pandas as pd\n",
    "import matplotlib.pyplot as plt\n",
    "import seaborn as sns\n",
    "%matplotlib inline\n",
    "\n",
    "import sqlite3    ## SQL Interface\n",
    "import pickle     ## Used to save your data - Converts objects to byte stream and vice versa\n",
    "\n",
    "\n",
    "## Modules to perform Text Preprocessing\n",
    "\n",
    "import numpy as np\n",
    "import pandas as pd\n",
    "import matplotlib.pyplot as plt\n",
    "from sklearn.preprocessing import StandardScaler\n",
    "from sklearn.model_selection import train_test_split\n",
    "\n",
    "from sklearn.model_selection import cross_val_score\n",
    "from sklearn.neighbors import KNeighborsClassifier\n",
    "from matplotlib.colors import ListedColormap\n",
    "from sklearn.metrics import accuracy_score\n",
    "%matplotlib inline\n",
    "from sklearn.metrics import confusion_matrix\n",
    "\n",
    "\n",
    "from sklearn.naive_bayes import BernoulliNB \n",
    "from sklearn.naive_bayes import MultinomialNB \n",
    "\n",
    "import gensim    ## To build Word2Vec model"
   ]
  },
  {
   "cell_type": "markdown",
   "metadata": {},
   "source": [
    "## reading the data from final.sqlite file"
   ]
  },
  {
   "cell_type": "code",
   "execution_count": 3,
   "metadata": {
    "scrolled": true
   },
   "outputs": [],
   "source": [
    "con=sqlite3.connect(\"final.sqlite\")\n",
    "final=pd.read_sql_query(\"select * from Spam\",con)\n",
    "con.close()"
   ]
  },
  {
   "cell_type": "code",
   "execution_count": 4,
   "metadata": {},
   "outputs": [
    {
     "data": {
      "text/html": [
       "<div>\n",
       "<style>\n",
       "    .dataframe thead tr:only-child th {\n",
       "        text-align: right;\n",
       "    }\n",
       "\n",
       "    .dataframe thead th {\n",
       "        text-align: left;\n",
       "    }\n",
       "\n",
       "    .dataframe tbody tr th {\n",
       "        vertical-align: top;\n",
       "    }\n",
       "</style>\n",
       "<table border=\"1\" class=\"dataframe\">\n",
       "  <thead>\n",
       "    <tr style=\"text-align: right;\">\n",
       "      <th></th>\n",
       "      <th>text</th>\n",
       "      <th>class</th>\n",
       "      <th>cleaned_text</th>\n",
       "    </tr>\n",
       "  </thead>\n",
       "  <tbody>\n",
       "    <tr>\n",
       "      <th>0</th>\n",
       "      <td>&gt; deat : sun , 15 dec 91 2 : 25 : 2 est &gt; : mi...</td>\n",
       "      <td>0.0</td>\n",
       "      <td>deat sun dec est michael subject queri wlodek ...</td>\n",
       "    </tr>\n",
       "    <tr>\n",
       "      <th>1</th>\n",
       "      <td>discussion s - &gt; np + np remind ago read , sou...</td>\n",
       "      <td>0.0</td>\n",
       "      <td>discuss remind ago read sourc forget critiqu n...</td>\n",
       "    </tr>\n",
       "    <tr>\n",
       "      <th>2</th>\n",
       "      <td>. . . 's much restrictive s - &gt; np np . 's \" \"...</td>\n",
       "      <td>0.0</td>\n",
       "      <td>much restrict pro quit</td>\n",
       "    </tr>\n",
       "    <tr>\n",
       "      <th>3</th>\n",
       "      <td>\" listserv \" international conference 1992 sec...</td>\n",
       "      <td>0.0</td>\n",
       "      <td>listserv intern confer second circular februar...</td>\n",
       "    </tr>\n",
       "    <tr>\n",
       "      <th>4</th>\n",
       "      <td>anyone point book article causative constructi...</td>\n",
       "      <td>0.0</td>\n",
       "      <td>anyon point book articl causat construct korea...</td>\n",
       "    </tr>\n",
       "    <tr>\n",
       "      <th>5</th>\n",
       "      <td>graduate student education approach colleague ...</td>\n",
       "      <td>0.0</td>\n",
       "      <td>graduat student educ approach colleagu mine qu...</td>\n",
       "    </tr>\n",
       "    <tr>\n",
       "      <th>6</th>\n",
       "      <td>undergraduate course shortly teach psycholingu...</td>\n",
       "      <td>0.0</td>\n",
       "      <td>undergradu cours short teach psycholinguist ap...</td>\n",
       "    </tr>\n",
       "    <tr>\n",
       "      <th>7</th>\n",
       "      <td>on-line corpus modern german . information app...</td>\n",
       "      <td>0.0</td>\n",
       "      <td>corpus modern german inform appreci ken beesle...</td>\n",
       "    </tr>\n",
       "    <tr>\n",
       "      <th>8</th>\n",
       "      <td>hi , help ! design experiment mandarin tone pa...</td>\n",
       "      <td>0.0</td>\n",
       "      <td>help design experi mandarin tone part phonolog...</td>\n",
       "    </tr>\n",
       "    <tr>\n",
       "      <th>9</th>\n",
       "      <td>linguistic program university utah invite appl...</td>\n",
       "      <td>0.0</td>\n",
       "      <td>linguist program univers utah invit applic vis...</td>\n",
       "    </tr>\n",
       "    <tr>\n",
       "      <th>10</th>\n",
       "      <td>poste de professeur , e regulier , ere en phon...</td>\n",
       "      <td>0.0</td>\n",
       "      <td>post professeur reguli ere phonologi depart li...</td>\n",
       "    </tr>\n",
       "    <tr>\n",
       "      <th>11</th>\n",
       "      <td>s c h o o l o f e n g l s h n d l n g u s t c ...</td>\n",
       "      <td>0.0</td>\n",
       "      <td>lectur generat linguist success candid must co...</td>\n",
       "    </tr>\n",
       "    <tr>\n",
       "      <th>12</th>\n",
       "      <td>interest grammar negative concord various dial...</td>\n",
       "      <td>0.0</td>\n",
       "      <td>interest grammar negat concord various dialect...</td>\n",
       "    </tr>\n",
       "    <tr>\n",
       "      <th>13</th>\n",
       "      <td>negative concord try compile list commercially...</td>\n",
       "      <td>0.0</td>\n",
       "      <td>negat concord tri compil list commerci avail p...</td>\n",
       "    </tr>\n",
       "    <tr>\n",
       "      <th>14</th>\n",
       "      <td>doe anybody email address either gunnar fant c...</td>\n",
       "      <td>0.0</td>\n",
       "      <td>doe anybodi email address either gunnar fant c...</td>\n",
       "    </tr>\n",
       "    <tr>\n",
       "      <th>15</th>\n",
       "      <td>hi , ' m work phonetics project modern irish '...</td>\n",
       "      <td>0.0</td>\n",
       "      <td>work phonet project modern irish hard sourc an...</td>\n",
       "    </tr>\n",
       "    <tr>\n",
       "      <th>16</th>\n",
       "      <td>anyone tell anything whether vp - ellipsis ice...</td>\n",
       "      <td>0.0</td>\n",
       "      <td>anyon tell anyth whether ellipsi iceland somet...</td>\n",
       "    </tr>\n",
       "    <tr>\n",
       "      <th>17</th>\n",
       "      <td>doe anyone whereabout dr peter hawkin , phonet...</td>\n",
       "      <td>0.0</td>\n",
       "      <td>doe anyon whereabout peter hawkin phonetician ...</td>\n",
       "    </tr>\n",
       "    <tr>\n",
       "      <th>18</th>\n",
       "      <td>trivial inquiry realm word why acquire syntact...</td>\n",
       "      <td>0.0</td>\n",
       "      <td>trivial inquiri realm word acquir syntact char...</td>\n",
       "    </tr>\n",
       "    <tr>\n",
       "      <th>19</th>\n",
       "      <td>jane tang ask reference ' lose ' grammatical i...</td>\n",
       "      <td>0.0</td>\n",
       "      <td>jane tang ask refer lose grammat intuit though...</td>\n",
       "    </tr>\n",
       "    <tr>\n",
       "      <th>20</th>\n",
       "      <td>bibliography work language power place linguis...</td>\n",
       "      <td>0.0</td>\n",
       "      <td>bibliographi work languag power place linguist...</td>\n",
       "    </tr>\n",
       "    <tr>\n",
       "      <th>21</th>\n",
       "      <td>? hay alguien que sepa como se puede comunicar...</td>\n",
       "      <td>0.0</td>\n",
       "      <td>hay alguien que sepa como pued comunicar con o...</td>\n",
       "    </tr>\n",
       "    <tr>\n",
       "      <th>22</th>\n",
       "      <td>message attempt linguistic community , next wo...</td>\n",
       "      <td>0.0</td>\n",
       "      <td>messag attempt linguist communiti next worksta...</td>\n",
       "    </tr>\n",
       "    <tr>\n",
       "      <th>23</th>\n",
       "      <td>appreciate reference discuss relationship corr...</td>\n",
       "      <td>0.0</td>\n",
       "      <td>appreci refer discuss relationship correspond ...</td>\n",
       "    </tr>\n",
       "    <tr>\n",
       "      <th>24</th>\n",
       "      <td>request help , form reference , suggestion , e...</td>\n",
       "      <td>0.0</td>\n",
       "      <td>request help form refer suggest etc syntact pr...</td>\n",
       "    </tr>\n",
       "    <tr>\n",
       "      <th>25</th>\n",
       "      <td>humanist discussion group , vol . 5 , . 0856 ....</td>\n",
       "      <td>0.0</td>\n",
       "      <td>humanist discuss group vol monday apr seek vol...</td>\n",
       "    </tr>\n",
       "    <tr>\n",
       "      <th>26</th>\n",
       "      <td>de ami de l ' universite ' laval , ecole de la...</td>\n",
       "      <td>0.0</td>\n",
       "      <td>ami universit laval ecol langu vivant ont dema...</td>\n",
       "    </tr>\n",
       "    <tr>\n",
       "      <th>27</th>\n",
       "      <td>number month ago raise issue deal human subjec...</td>\n",
       "      <td>0.0</td>\n",
       "      <td>number month ago rais issu deal human subject ...</td>\n",
       "    </tr>\n",
       "    <tr>\n",
       "      <th>28</th>\n",
       "      <td>re guido vanden wyngaerd ( 3-357 ) : must brea...</td>\n",
       "      <td>0.0</td>\n",
       "      <td>guido vanden wyngaerd must break longish silen...</td>\n",
       "    </tr>\n",
       "    <tr>\n",
       "      <th>29</th>\n",
       "      <td>&gt; finally , lanse point english : &gt; &gt; &gt; _ silv...</td>\n",
       "      <td>0.0</td>\n",
       "      <td>final lans point english silver knife low high...</td>\n",
       "    </tr>\n",
       "    <tr>\n",
       "      <th>...</th>\n",
       "      <td>...</td>\n",
       "      <td>...</td>\n",
       "      <td>...</td>\n",
       "    </tr>\n",
       "    <tr>\n",
       "      <th>932</th>\n",
       "      <td>* share * beautiful british columbium , canada...</td>\n",
       "      <td>1.0</td>\n",
       "      <td>share beauti british columbium canada studio a...</td>\n",
       "    </tr>\n",
       "    <tr>\n",
       "      <th>933</th>\n",
       "      <td>international driver ' s license need driver '...</td>\n",
       "      <td>1.0</td>\n",
       "      <td>intern driver licens need driver licens mani p...</td>\n",
       "    </tr>\n",
       "    <tr>\n",
       "      <th>934</th>\n",
       "      <td>offer close march 31 , 1999 announcement offer...</td>\n",
       "      <td>1.0</td>\n",
       "      <td>offer close march announc offer sell solicit o...</td>\n",
       "    </tr>\n",
       "    <tr>\n",
       "      <th>935</th>\n",
       "      <td>vacation ! most exotic place earth . . . . . ....</td>\n",
       "      <td>1.0</td>\n",
       "      <td>vacat exot place earth florida special onlin p...</td>\n",
       "    </tr>\n",
       "    <tr>\n",
       "      <th>936</th>\n",
       "      <td>http : / / capitalfm . com - help london child...</td>\n",
       "      <td>1.0</td>\n",
       "      <td>http capitalfm com help london child miss fun ...</td>\n",
       "    </tr>\n",
       "    <tr>\n",
       "      <th>937</th>\n",
       "      <td>responsible email send k . m . . 4401 vineland...</td>\n",
       "      <td>1.0</td>\n",
       "      <td>respons email send vineland road orlando tel e...</td>\n",
       "    </tr>\n",
       "    <tr>\n",
       "      <th>938</th>\n",
       "      <td>hi , over 100 , 0 sale professional read our i...</td>\n",
       "      <td>1.0</td>\n",
       "      <td>sale profession read inform white paper report...</td>\n",
       "    </tr>\n",
       "    <tr>\n",
       "      <th>939</th>\n",
       "      <td>vacation ! most exotic place earth . . . . . ....</td>\n",
       "      <td>1.0</td>\n",
       "      <td>vacat exot place earth florida special onlin p...</td>\n",
       "    </tr>\n",
       "    <tr>\n",
       "      <th>940</th>\n",
       "      <td>dear achiever , are interest online business ?...</td>\n",
       "      <td>1.0</td>\n",
       "      <td>dear achiev interest onlin busi compani put to...</td>\n",
       "    </tr>\n",
       "    <tr>\n",
       "      <th>941</th>\n",
       "      <td>hello , welcome scus international , source 2 ...</td>\n",
       "      <td>1.0</td>\n",
       "      <td>hello welcom scus intern sourc popular obscur ...</td>\n",
       "    </tr>\n",
       "    <tr>\n",
       "      <th>942</th>\n",
       "      <td>perfect get-a - click away . . . http : / / ww...</td>\n",
       "      <td>1.0</td>\n",
       "      <td>perfect click away http www com note mail feel...</td>\n",
       "    </tr>\n",
       "    <tr>\n",
       "      <th>943</th>\n",
       "      <td>http : / / capitalfm . com - australia - chri ...</td>\n",
       "      <td>1.0</td>\n",
       "      <td>http capitalfm com australia chri tarrant crew...</td>\n",
       "    </tr>\n",
       "    <tr>\n",
       "      <th>944</th>\n",
       "      <td>plurabelle book catalogue second hand print bo...</td>\n",
       "      <td>1.0</td>\n",
       "      <td>plurabell book catalogu second hand print book...</td>\n",
       "    </tr>\n",
       "    <tr>\n",
       "      <th>945</th>\n",
       "      <td>earn while learn ! call toll - free 1-877 - 27...</td>\n",
       "      <td>1.0</td>\n",
       "      <td>earn learn call toll free author code pay star...</td>\n",
       "    </tr>\n",
       "    <tr>\n",
       "      <th>946</th>\n",
       "      <td>confirmation number : 80924609220 wish subscri...</td>\n",
       "      <td>1.0</td>\n",
       "      <td>confirm number wish subscrib joke free daili e...</td>\n",
       "    </tr>\n",
       "    <tr>\n",
       "      <th>947</th>\n",
       "      <td>vip customer special - april 20 legend micro i...</td>\n",
       "      <td>1.0</td>\n",
       "      <td>vip custom special april legend micro inc toll...</td>\n",
       "    </tr>\n",
       "    <tr>\n",
       "      <th>948</th>\n",
       "      <td>list owner : \" bancurus \" invite join mail lis...</td>\n",
       "      <td>1.0</td>\n",
       "      <td>list owner bancurus invit join mail list listb...</td>\n",
       "    </tr>\n",
       "    <tr>\n",
       "      <th>949</th>\n",
       "      <td>full detail : http : / / -814493884 / web22b5f...</td>\n",
       "      <td>1.0</td>\n",
       "      <td>full detail http trip html exot place earth fl...</td>\n",
       "    </tr>\n",
       "    <tr>\n",
       "      <th>950</th>\n",
       "      <td>http : / / capitalfm . com - fierce - hottest ...</td>\n",
       "      <td>1.0</td>\n",
       "      <td>http capitalfm com fierc hottest girl chat onl...</td>\n",
       "    </tr>\n",
       "    <tr>\n",
       "      <th>951</th>\n",
       "      <td>company : mark industry symbol : mkii price : ...</td>\n",
       "      <td>1.0</td>\n",
       "      <td>compani mark industri symbol mkii price share ...</td>\n",
       "    </tr>\n",
       "    <tr>\n",
       "      <th>952</th>\n",
       "      <td>free white paper datum mine web datum : http :...</td>\n",
       "      <td>1.0</td>\n",
       "      <td>free white paper datum mine web datum http www...</td>\n",
       "    </tr>\n",
       "    <tr>\n",
       "      <th>953</th>\n",
       "      <td>learn put angels work ! angel another race bei...</td>\n",
       "      <td>1.0</td>\n",
       "      <td>learn put angel work angel anoth race occupi s...</td>\n",
       "    </tr>\n",
       "    <tr>\n",
       "      <th>954</th>\n",
       "      <td>congratulation ! ' ve select enter vacation ad...</td>\n",
       "      <td>1.0</td>\n",
       "      <td>congratul select enter vacat adventur florida ...</td>\n",
       "    </tr>\n",
       "    <tr>\n",
       "      <th>955</th>\n",
       "      <td>celebrate our 50th issue our inet review newsl...</td>\n",
       "      <td>1.0</td>\n",
       "      <td>celebr issu inet review newslett inet review w...</td>\n",
       "    </tr>\n",
       "    <tr>\n",
       "      <th>956</th>\n",
       "      <td>sender : trinity venture , inc . address : 191...</td>\n",
       "      <td>1.0</td>\n",
       "      <td>sender triniti ventur inc address westmead hou...</td>\n",
       "    </tr>\n",
       "    <tr>\n",
       "      <th>957</th>\n",
       "      <td>congratulation ! ' ve select enter vacation ad...</td>\n",
       "      <td>1.0</td>\n",
       "      <td>congratul select enter vacat adventur florida ...</td>\n",
       "    </tr>\n",
       "    <tr>\n",
       "      <th>958</th>\n",
       "      <td>http : / / capitalfm . com - extravaganza 1999...</td>\n",
       "      <td>1.0</td>\n",
       "      <td>http capitalfm com extravaganza keep date acti...</td>\n",
       "    </tr>\n",
       "    <tr>\n",
       "      <th>959</th>\n",
       "      <td>spam ; receive message member safemail list . ...</td>\n",
       "      <td>1.0</td>\n",
       "      <td>spam receiv messag member safemail list wish p...</td>\n",
       "    </tr>\n",
       "    <tr>\n",
       "      <th>960</th>\n",
       "      <td>spam ; receive message member safemail list . ...</td>\n",
       "      <td>1.0</td>\n",
       "      <td>spam receiv messag member safemail list wish p...</td>\n",
       "    </tr>\n",
       "    <tr>\n",
       "      <th>961</th>\n",
       "      <td>dear internet user : dear internet user : soun...</td>\n",
       "      <td>1.0</td>\n",
       "      <td>dear internet user dear internet user sound fa...</td>\n",
       "    </tr>\n",
       "  </tbody>\n",
       "</table>\n",
       "<p>962 rows × 3 columns</p>\n",
       "</div>"
      ],
      "text/plain": [
       "                                                  text  class  \\\n",
       "0    > deat : sun , 15 dec 91 2 : 25 : 2 est > : mi...    0.0   \n",
       "1    discussion s - > np + np remind ago read , sou...    0.0   \n",
       "2    . . . 's much restrictive s - > np np . 's \" \"...    0.0   \n",
       "3    \" listserv \" international conference 1992 sec...    0.0   \n",
       "4    anyone point book article causative constructi...    0.0   \n",
       "5    graduate student education approach colleague ...    0.0   \n",
       "6    undergraduate course shortly teach psycholingu...    0.0   \n",
       "7    on-line corpus modern german . information app...    0.0   \n",
       "8    hi , help ! design experiment mandarin tone pa...    0.0   \n",
       "9    linguistic program university utah invite appl...    0.0   \n",
       "10   poste de professeur , e regulier , ere en phon...    0.0   \n",
       "11   s c h o o l o f e n g l s h n d l n g u s t c ...    0.0   \n",
       "12   interest grammar negative concord various dial...    0.0   \n",
       "13   negative concord try compile list commercially...    0.0   \n",
       "14   doe anybody email address either gunnar fant c...    0.0   \n",
       "15   hi , ' m work phonetics project modern irish '...    0.0   \n",
       "16   anyone tell anything whether vp - ellipsis ice...    0.0   \n",
       "17   doe anyone whereabout dr peter hawkin , phonet...    0.0   \n",
       "18   trivial inquiry realm word why acquire syntact...    0.0   \n",
       "19   jane tang ask reference ' lose ' grammatical i...    0.0   \n",
       "20   bibliography work language power place linguis...    0.0   \n",
       "21   ? hay alguien que sepa como se puede comunicar...    0.0   \n",
       "22   message attempt linguistic community , next wo...    0.0   \n",
       "23   appreciate reference discuss relationship corr...    0.0   \n",
       "24   request help , form reference , suggestion , e...    0.0   \n",
       "25   humanist discussion group , vol . 5 , . 0856 ....    0.0   \n",
       "26   de ami de l ' universite ' laval , ecole de la...    0.0   \n",
       "27   number month ago raise issue deal human subjec...    0.0   \n",
       "28   re guido vanden wyngaerd ( 3-357 ) : must brea...    0.0   \n",
       "29   > finally , lanse point english : > > > _ silv...    0.0   \n",
       "..                                                 ...    ...   \n",
       "932  * share * beautiful british columbium , canada...    1.0   \n",
       "933  international driver ' s license need driver '...    1.0   \n",
       "934  offer close march 31 , 1999 announcement offer...    1.0   \n",
       "935  vacation ! most exotic place earth . . . . . ....    1.0   \n",
       "936  http : / / capitalfm . com - help london child...    1.0   \n",
       "937  responsible email send k . m . . 4401 vineland...    1.0   \n",
       "938  hi , over 100 , 0 sale professional read our i...    1.0   \n",
       "939  vacation ! most exotic place earth . . . . . ....    1.0   \n",
       "940  dear achiever , are interest online business ?...    1.0   \n",
       "941  hello , welcome scus international , source 2 ...    1.0   \n",
       "942  perfect get-a - click away . . . http : / / ww...    1.0   \n",
       "943  http : / / capitalfm . com - australia - chri ...    1.0   \n",
       "944  plurabelle book catalogue second hand print bo...    1.0   \n",
       "945  earn while learn ! call toll - free 1-877 - 27...    1.0   \n",
       "946  confirmation number : 80924609220 wish subscri...    1.0   \n",
       "947  vip customer special - april 20 legend micro i...    1.0   \n",
       "948  list owner : \" bancurus \" invite join mail lis...    1.0   \n",
       "949  full detail : http : / / -814493884 / web22b5f...    1.0   \n",
       "950  http : / / capitalfm . com - fierce - hottest ...    1.0   \n",
       "951  company : mark industry symbol : mkii price : ...    1.0   \n",
       "952  free white paper datum mine web datum : http :...    1.0   \n",
       "953  learn put angels work ! angel another race bei...    1.0   \n",
       "954  congratulation ! ' ve select enter vacation ad...    1.0   \n",
       "955  celebrate our 50th issue our inet review newsl...    1.0   \n",
       "956  sender : trinity venture , inc . address : 191...    1.0   \n",
       "957  congratulation ! ' ve select enter vacation ad...    1.0   \n",
       "958  http : / / capitalfm . com - extravaganza 1999...    1.0   \n",
       "959  spam ; receive message member safemail list . ...    1.0   \n",
       "960  spam ; receive message member safemail list . ...    1.0   \n",
       "961  dear internet user : dear internet user : soun...    1.0   \n",
       "\n",
       "                                          cleaned_text  \n",
       "0    deat sun dec est michael subject queri wlodek ...  \n",
       "1    discuss remind ago read sourc forget critiqu n...  \n",
       "2                               much restrict pro quit  \n",
       "3    listserv intern confer second circular februar...  \n",
       "4    anyon point book articl causat construct korea...  \n",
       "5    graduat student educ approach colleagu mine qu...  \n",
       "6    undergradu cours short teach psycholinguist ap...  \n",
       "7    corpus modern german inform appreci ken beesle...  \n",
       "8    help design experi mandarin tone part phonolog...  \n",
       "9    linguist program univers utah invit applic vis...  \n",
       "10   post professeur reguli ere phonologi depart li...  \n",
       "11   lectur generat linguist success candid must co...  \n",
       "12   interest grammar negat concord various dialect...  \n",
       "13   negat concord tri compil list commerci avail p...  \n",
       "14   doe anybodi email address either gunnar fant c...  \n",
       "15   work phonet project modern irish hard sourc an...  \n",
       "16   anyon tell anyth whether ellipsi iceland somet...  \n",
       "17   doe anyon whereabout peter hawkin phonetician ...  \n",
       "18   trivial inquiri realm word acquir syntact char...  \n",
       "19   jane tang ask refer lose grammat intuit though...  \n",
       "20   bibliographi work languag power place linguist...  \n",
       "21   hay alguien que sepa como pued comunicar con o...  \n",
       "22   messag attempt linguist communiti next worksta...  \n",
       "23   appreci refer discuss relationship correspond ...  \n",
       "24   request help form refer suggest etc syntact pr...  \n",
       "25   humanist discuss group vol monday apr seek vol...  \n",
       "26   ami universit laval ecol langu vivant ont dema...  \n",
       "27   number month ago rais issu deal human subject ...  \n",
       "28   guido vanden wyngaerd must break longish silen...  \n",
       "29   final lans point english silver knife low high...  \n",
       "..                                                 ...  \n",
       "932  share beauti british columbium canada studio a...  \n",
       "933  intern driver licens need driver licens mani p...  \n",
       "934  offer close march announc offer sell solicit o...  \n",
       "935  vacat exot place earth florida special onlin p...  \n",
       "936  http capitalfm com help london child miss fun ...  \n",
       "937  respons email send vineland road orlando tel e...  \n",
       "938  sale profession read inform white paper report...  \n",
       "939  vacat exot place earth florida special onlin p...  \n",
       "940  dear achiev interest onlin busi compani put to...  \n",
       "941  hello welcom scus intern sourc popular obscur ...  \n",
       "942  perfect click away http www com note mail feel...  \n",
       "943  http capitalfm com australia chri tarrant crew...  \n",
       "944  plurabell book catalogu second hand print book...  \n",
       "945  earn learn call toll free author code pay star...  \n",
       "946  confirm number wish subscrib joke free daili e...  \n",
       "947  vip custom special april legend micro inc toll...  \n",
       "948  list owner bancurus invit join mail list listb...  \n",
       "949  full detail http trip html exot place earth fl...  \n",
       "950  http capitalfm com fierc hottest girl chat onl...  \n",
       "951  compani mark industri symbol mkii price share ...  \n",
       "952  free white paper datum mine web datum http www...  \n",
       "953  learn put angel work angel anoth race occupi s...  \n",
       "954  congratul select enter vacat adventur florida ...  \n",
       "955  celebr issu inet review newslett inet review w...  \n",
       "956  sender triniti ventur inc address westmead hou...  \n",
       "957  congratul select enter vacat adventur florida ...  \n",
       "958  http capitalfm com extravaganza keep date acti...  \n",
       "959  spam receiv messag member safemail list wish p...  \n",
       "960  spam receiv messag member safemail list wish p...  \n",
       "961  dear internet user dear internet user sound fa...  \n",
       "\n",
       "[962 rows x 3 columns]"
      ]
     },
     "execution_count": 4,
     "metadata": {},
     "output_type": "execute_result"
    }
   ],
   "source": [
    "final"
   ]
  },
  {
   "cell_type": "markdown",
   "metadata": {},
   "source": [
    "## performing binary BOW on cleaned text column"
   ]
  },
  {
   "cell_type": "code",
   "execution_count": 8,
   "metadata": {},
   "outputs": [],
   "source": [
    "bow_vect=CountVectorizer(binary=True)\n",
    "bow=bow_vect.fit_transform(final[\"cleaned_text\"].values)"
   ]
  },
  {
   "cell_type": "code",
   "execution_count": 9,
   "metadata": {
    "collapsed": true
   },
   "outputs": [],
   "source": [
    "X=bow"
   ]
  },
  {
   "cell_type": "code",
   "execution_count": 10,
   "metadata": {},
   "outputs": [
    {
     "data": {
      "text/plain": [
       "<962x18944 sparse matrix of type '<class 'numpy.int64'>'\n",
       "\twith 134256 stored elements in Compressed Sparse Row format>"
      ]
     },
     "execution_count": 10,
     "metadata": {},
     "output_type": "execute_result"
    }
   ],
   "source": [
    "X"
   ]
  },
  {
   "cell_type": "markdown",
   "metadata": {},
   "source": [
    "## separating the class values"
   ]
  },
  {
   "cell_type": "code",
   "execution_count": 11,
   "metadata": {
    "collapsed": true
   },
   "outputs": [],
   "source": [
    "Y=final[\"class\"].values"
   ]
  },
  {
   "cell_type": "code",
   "execution_count": 12,
   "metadata": {},
   "outputs": [
    {
     "data": {
      "text/plain": [
       "array([0., 0., 0., 0., 0., 0., 0., 0., 0., 0., 0., 0., 0., 0., 0., 0., 0.,\n",
       "       0., 0., 0., 0., 0., 0., 0., 0., 0., 0., 0., 0., 0., 0., 0., 0., 0.,\n",
       "       0., 0., 0., 0., 0., 0., 0., 0., 0., 0., 0., 0., 0., 0., 0., 0., 0.,\n",
       "       0., 0., 0., 0., 0., 0., 0., 0., 0., 0., 0., 0., 0., 0., 0., 0., 0.,\n",
       "       0., 0., 0., 0., 0., 0., 0., 0., 0., 0., 0., 0., 0., 0., 0., 0., 0.,\n",
       "       0., 0., 0., 0., 0., 0., 0., 0., 0., 0., 0., 0., 0., 0., 0., 0., 0.,\n",
       "       0., 0., 0., 0., 0., 0., 0., 0., 0., 0., 0., 0., 0., 0., 0., 0., 0.,\n",
       "       0., 0., 0., 0., 0., 0., 0., 0., 0., 0., 0., 0., 0., 0., 0., 0., 0.,\n",
       "       0., 0., 0., 0., 0., 0., 0., 0., 0., 0., 0., 0., 0., 0., 0., 0., 0.,\n",
       "       0., 0., 0., 0., 0., 0., 0., 0., 0., 0., 0., 0., 0., 0., 0., 0., 0.,\n",
       "       0., 0., 0., 0., 0., 0., 0., 0., 0., 0., 0., 0., 0., 0., 0., 0., 0.,\n",
       "       0., 0., 0., 0., 0., 0., 0., 0., 0., 0., 0., 0., 0., 0., 0., 0., 0.,\n",
       "       0., 0., 0., 0., 0., 0., 0., 0., 0., 0., 0., 0., 0., 0., 0., 0., 0.,\n",
       "       0., 0., 0., 0., 0., 0., 0., 0., 0., 0., 0., 0., 0., 0., 0., 0., 0.,\n",
       "       0., 0., 0., 0., 0., 0., 0., 0., 0., 0., 0., 0., 0., 0., 0., 0., 0.,\n",
       "       0., 0., 0., 0., 0., 0., 0., 0., 0., 0., 0., 0., 0., 0., 0., 0., 0.,\n",
       "       0., 0., 0., 0., 0., 0., 0., 0., 0., 0., 0., 0., 0., 0., 0., 0., 0.,\n",
       "       0., 0., 0., 0., 0., 0., 0., 0., 0., 0., 0., 0., 0., 0., 0., 0., 0.,\n",
       "       0., 0., 0., 0., 0., 0., 0., 0., 0., 0., 0., 0., 0., 0., 0., 0., 0.,\n",
       "       0., 0., 0., 0., 0., 0., 0., 0., 0., 0., 0., 0., 0., 0., 0., 0., 0.,\n",
       "       0., 0., 0., 0., 0., 0., 0., 0., 0., 0., 0., 0., 0., 0., 0., 0., 0.,\n",
       "       0., 0., 0., 0., 0., 0., 0., 0., 0., 0., 0., 0., 0., 0., 0., 0., 0.,\n",
       "       0., 0., 0., 0., 0., 0., 0., 0., 0., 0., 0., 0., 0., 0., 0., 0., 0.,\n",
       "       0., 0., 0., 0., 0., 0., 0., 0., 0., 0., 0., 0., 0., 0., 0., 0., 0.,\n",
       "       0., 0., 0., 0., 0., 0., 0., 0., 0., 0., 0., 0., 0., 0., 0., 0., 0.,\n",
       "       0., 0., 0., 0., 0., 0., 0., 0., 0., 0., 0., 0., 0., 0., 0., 0., 0.,\n",
       "       0., 0., 0., 0., 0., 0., 0., 0., 0., 0., 0., 0., 0., 0., 0., 0., 0.,\n",
       "       0., 0., 0., 0., 0., 0., 0., 0., 0., 0., 0., 0., 0., 0., 0., 0., 0.,\n",
       "       0., 0., 0., 0., 0., 1., 1., 1., 1., 1., 1., 1., 1., 1., 1., 1., 1.,\n",
       "       1., 1., 1., 1., 1., 1., 1., 1., 1., 1., 1., 1., 1., 1., 1., 1., 1.,\n",
       "       1., 1., 1., 1., 1., 1., 1., 1., 1., 1., 1., 1., 1., 1., 1., 1., 1.,\n",
       "       1., 1., 1., 1., 1., 1., 1., 1., 1., 1., 1., 1., 1., 1., 1., 1., 1.,\n",
       "       1., 1., 1., 1., 1., 1., 1., 1., 1., 1., 1., 1., 1., 1., 1., 1., 1.,\n",
       "       1., 1., 1., 1., 1., 1., 1., 1., 1., 1., 1., 1., 1., 1., 1., 1., 1.,\n",
       "       1., 1., 1., 1., 1., 1., 1., 1., 1., 1., 1., 1., 1., 1., 1., 1., 1.,\n",
       "       1., 1., 1., 1., 1., 1., 1., 1., 1., 1., 1., 1., 1., 1., 1., 1., 1.,\n",
       "       1., 1., 1., 1., 1., 1., 1., 1., 1., 1., 1., 1., 1., 1., 1., 1., 1.,\n",
       "       1., 1., 1., 1., 1., 1., 1., 1., 1., 1., 1., 1., 1., 1., 1., 1., 1.,\n",
       "       1., 1., 1., 1., 1., 1., 1., 1., 1., 1., 1., 1., 1., 1., 1., 1., 1.,\n",
       "       1., 1., 1., 1., 1., 1., 1., 1., 1., 1., 1., 1., 1., 1., 1., 1., 1.,\n",
       "       1., 1., 1., 1., 1., 1., 1., 1., 1., 1., 1., 1., 1., 1., 1., 1., 1.,\n",
       "       1., 1., 1., 1., 1., 1., 1., 1., 1., 1., 1., 1., 1., 1., 1., 1., 1.,\n",
       "       1., 1., 1., 1., 1., 1., 1., 1., 1., 1., 1., 1., 1., 1., 1., 1., 1.,\n",
       "       1., 1., 1., 1., 1., 1., 1., 1., 1., 1., 1., 1., 1., 1., 1., 1., 1.,\n",
       "       1., 1., 1., 1., 1., 1., 1., 1., 1., 1., 1., 1., 1., 1., 1., 1., 1.,\n",
       "       1., 1., 1., 1., 1., 1., 1., 1., 1., 1., 1., 1., 1., 1., 1., 1., 1.,\n",
       "       1., 1., 1., 1., 1., 1., 1., 1., 1., 1., 1., 1., 1., 1., 1., 1., 1.,\n",
       "       1., 1., 1., 1., 1., 1., 1., 1., 1., 1., 1., 1., 1., 1., 1., 1., 1.,\n",
       "       1., 1., 1., 1., 1., 1., 1., 1., 1., 1., 1., 1., 1., 1., 1., 1., 1.,\n",
       "       1., 1., 1., 1., 1., 1., 1., 1., 1., 1., 1., 1., 1., 1., 1., 1., 1.,\n",
       "       1., 1., 1., 1., 1., 1., 1., 1., 1., 1., 1., 1., 1., 1., 1., 1., 1.,\n",
       "       1., 1., 1., 1., 1., 1., 1., 1., 1., 1., 1., 1., 1., 1., 1., 1., 1.,\n",
       "       1., 1., 1., 1., 1., 1., 1., 1., 1., 1., 1., 1., 1., 1., 1., 1., 1.,\n",
       "       1., 1., 1., 1., 1., 1., 1., 1., 1., 1., 1., 1., 1., 1., 1., 1., 1.,\n",
       "       1., 1., 1., 1., 1., 1., 1., 1., 1., 1., 1., 1., 1., 1., 1., 1., 1.,\n",
       "       1., 1., 1., 1., 1., 1., 1., 1., 1., 1., 1., 1., 1., 1., 1., 1., 1.,\n",
       "       1., 1., 1., 1., 1., 1., 1., 1., 1., 1.])"
      ]
     },
     "execution_count": 12,
     "metadata": {},
     "output_type": "execute_result"
    }
   ],
   "source": [
    "Y"
   ]
  },
  {
   "cell_type": "markdown",
   "metadata": {},
   "source": [
    "## splitting the data for testing and training "
   ]
  },
  {
   "cell_type": "code",
   "execution_count": 15,
   "metadata": {},
   "outputs": [],
   "source": [
    "X_train,X_test,Y_train,Y_test=train_test_split(X,Y,test_size=0.3)"
   ]
  },
  {
   "cell_type": "markdown",
   "metadata": {},
   "source": [
    "## performing cross validation to find optimum value of alpha"
   ]
  },
  {
   "cell_type": "code",
   "execution_count": 28,
   "metadata": {
    "collapsed": true
   },
   "outputs": [],
   "source": [
    "alpha=np.linspace(0.1,1,10)\n",
    "cv_scores=[]\n",
    "for a in alpha:\n",
    "    clf=BernoulliNB(alpha=a)\n",
    "    scores=cross_val_score(clf,X_train,Y_train,cv=10,scoring=\"accuracy\")\n",
    "    cv_scores.append(scores.mean())\n",
    "MSE=[1-x for x in cv_scores]\n",
    "optimal_alpha=alpha[MSE.index(min(MSE))]"
   ]
  },
  {
   "cell_type": "code",
   "execution_count": 29,
   "metadata": {},
   "outputs": [
    {
     "data": {
      "text/plain": [
       "0.1"
      ]
     },
     "execution_count": 29,
     "metadata": {},
     "output_type": "execute_result"
    }
   ],
   "source": [
    "optimal_alpha"
   ]
  },
  {
   "cell_type": "code",
   "execution_count": 30,
   "metadata": {},
   "outputs": [
    {
     "data": {
      "text/plain": [
       "array([0.1, 0.2, 0.3, 0.4, 0.5, 0.6, 0.7, 0.8, 0.9, 1. ])"
      ]
     },
     "execution_count": 30,
     "metadata": {},
     "output_type": "execute_result"
    }
   ],
   "source": [
    "alpha"
   ]
  },
  {
   "cell_type": "code",
   "execution_count": 31,
   "metadata": {},
   "outputs": [
    {
     "data": {
      "text/plain": [
       "[<matplotlib.lines.Line2D at 0x25311eb09e8>]"
      ]
     },
     "execution_count": 31,
     "metadata": {},
     "output_type": "execute_result"
    },
    {
     "data": {
      "image/png": "[encoded data removed]",
      "text/plain": [
       "<matplotlib.figure.Figure at 0x25311ea53c8>"
      ]
     },
     "metadata": {},
     "output_type": "display_data"
    }
   ],
   "source": [
    "plt.plot(alpha,MSE)\n"
   ]
  },
  {
   "cell_type": "markdown",
   "metadata": {},
   "source": [
    "### training the BernoulliNB model with the found optimum alpha value and testing the model to find accuracy and confusion matrix"
   ]
  },
  {
   "cell_type": "code",
   "execution_count": 32,
   "metadata": {},
   "outputs": [
    {
     "name": "stdout",
     "output_type": "stream",
     "text": [
      "98.96193771626297\n"
     ]
    },
    {
     "data": {
      "text/plain": [
       "array([[153,   1],\n",
       "       [  2, 133]], dtype=int64)"
      ]
     },
     "execution_count": 32,
     "metadata": {},
     "output_type": "execute_result"
    }
   ],
   "source": [
    "clf=BernoulliNB(alpha=optimal_alpha)\n",
    "clf.fit(X_train,Y_train)\n",
    "y_pred=clf.predict(X_test)\n",
    "acc=accuracy_score(Y_test,y_pred,normalize=True)*float(100)\n",
    "print(acc)\n",
    "confusion_matrix(Y_test,y_pred).T"
   ]
  },
  {
   "cell_type": "code",
   "execution_count": 33,
   "metadata": {
    "collapsed": true
   },
   "outputs": [],
   "source": [
    "from sklearn.metrics import f1_score\n"
   ]
  },
  {
   "cell_type": "code",
   "execution_count": 35,
   "metadata": {},
   "outputs": [
    {
     "data": {
      "text/plain": [
       "0.9888475836431226"
      ]
     },
     "execution_count": 35,
     "metadata": {},
     "output_type": "execute_result"
    }
   ],
   "source": [
    "f1_score(Y_test, y_pred) "
   ]
  },
  {
   "cell_type": "code",
   "execution_count": 39,
   "metadata": {},
   "outputs": [
    {
     "data": {
      "text/plain": [
       "0.9896193771626297"
      ]
     },
     "execution_count": 39,
     "metadata": {},
     "output_type": "execute_result"
    }
   ],
   "source": [
    "f1_score(Y_test, y_pred, average='micro') "
   ]
  },
  {
   "cell_type": "code",
   "execution_count": 41,
   "metadata": {},
   "outputs": [
    {
     "data": {
      "text/plain": [
       "array([0.99029126, 0.98884758])"
      ]
     },
     "execution_count": 41,
     "metadata": {},
     "output_type": "execute_result"
    }
   ],
   "source": [
    "f1_score(Y_test, y_pred, average=None) "
   ]
  },
  {
   "cell_type": "code",
   "execution_count": null,
   "metadata": {
    "collapsed": true
   },
   "outputs": [],
   "source": []
  }
 ],
 "metadata": {
  "kernelspec": {
   "display_name": "Python 3",
   "language": "python",
   "name": "python3"
  },
  "language_info": {
   "codemirror_mode": {
    "name": "ipython",
    "version": 3
   },
   "file_extension": ".py",
   "mimetype": "text/x-python",
   "name": "python",
   "nbconvert_exporter": "python",
   "pygments_lexer": "ipython3",
   "version": "3.6.3"
  }
 },
 "nbformat": 4,
 "nbformat_minor": 2
}
